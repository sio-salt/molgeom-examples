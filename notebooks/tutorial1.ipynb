{
 "cells": [
  {
   "cell_type": "markdown",
   "metadata": {},
   "source": [
    "# molgeom example codes"
   ]
  },
  {
   "cell_type": "markdown",
   "metadata": {},
   "source": [
    "## Installation\n",
    "\n",
    "```bash\n",
    "pip install -U git+https://github.com/sio-salt/molgeom@main\n",
    "```\n",
    "or\n",
    "\n",
    "```bash\n",
    "git clone https://github.com/sio-salt/molgeom.git\n",
    "cd molgeom\n",
    "pip install -e .\n",
    "```"
   ]
  },
  {
   "cell_type": "markdown",
   "metadata": {},
   "source": [
    "## Atom class examples"
   ]
  },
  {
   "cell_type": "code",
   "execution_count": 1,
   "metadata": {},
   "outputs": [
    {
     "name": "stdout",
     "output_type": "stream",
     "text": [
      "Instantiate atom objects\n",
      "Print atom object\n",
      "atom1=Atom('O', 1.000000000000, 0.000000000000, 0.000000000000)\n",
      "Print atom attributes\n",
      "atom1.atomic_number=8\n",
      "atom1.symbol='O'\n",
      "atom1.x=1.0\n",
      "atom1.y=0.0\n",
      "atom1.z=0.0\n",
      "atom1.mass=15.9994\n",
      "\n",
      "geometry manipulation\n",
      "atom1=Atom('O', 2.000000000000, -1.000000000000, 2.500000000000)\n",
      "atom1=Atom('O', 1.000000000000, 2.000000000000, 2.500000000000)\n",
      "atom3=Atom('O', 1.000000000000, 2.000000000000, 2.500000000000)\n",
      "atom1.isclose(atom3) and not atom1.isclose(atom2)=True\n",
      "atom3=Atom('O', 1.000000000000, 2.000000000000, 2.500000000000)\n",
      "\n",
      "default charge is None\n",
      "atom1.charge=None\n",
      "atom1.charge=-2\n",
      "\n",
      "\n",
      "Atom methods\n",
      "atom1.to_xyz()='O       1.000000000000      2.000000000000      2.500000000000'\n",
      "atom1.to_dict()={'symbol': 'O', 'x': 1.0000000000000002, 'y': 2.0, 'z': 2.5, 'mass': 15.9994, 'charge': -2, 'atomic_number': 8}\n",
      "atom1.distance_to(atom2)=2.8722813232690143\n",
      "atom1.angle(atom2)*180/math.pi=53.395723557294346\n",
      "\n"
     ]
    }
   ],
   "source": [
    "# Basic importing\n",
    "from molgeom import Atom\n",
    "import math\n",
    "\n",
    "print(\"Instantiate atom objects\")\n",
    "atom1 = Atom('O', 1, 0, 0)\n",
    "atom2 = Atom('H', 0, 1, 0)\n",
    "\n",
    "print(\"Print atom object\")\n",
    "print(f\"{atom1=}\")\n",
    "\n",
    "print(\"Print atom attributes\")\n",
    "print(f\"{atom1.atomic_number=}\")\n",
    "print(f\"{atom1.symbol=}\")\n",
    "print(f\"{atom1.x=}\")\n",
    "print(f\"{atom1.y=}\")\n",
    "print(f\"{atom1.z=}\")\n",
    "print(f\"{atom1.mass=}\")\n",
    "print()\n",
    "\n",
    "print(\"geometry manipulation\")\n",
    "atom1.translate([1, -1, 2.5])\n",
    "print(f\"{atom1=}\")\n",
    "atom1.rotate_by_axis(axis_point1=[0, 0, 0], axis_point2=[0, 0, 1], deg=90)\n",
    "print(f\"{atom1=}\")\n",
    "atom3 = atom1.copy()\n",
    "print(f\"{atom3=}\")\n",
    "print(f\"{atom1.isclose(atom3) and not atom1.isclose(atom2)=}\")\n",
    "print(f\"{atom3=}\")\n",
    "print()\n",
    "\n",
    "print(\"default charge is None\")\n",
    "print(f\"{atom1.charge=}\")\n",
    "atom1.charge = -2\n",
    "print(f\"{atom1.charge=}\\n\")\n",
    "print()\n",
    "\n",
    "print(\"Atom methods\")\n",
    "print(f\"{atom1.to_xyz()=}\")\n",
    "print(f\"{atom1.to_dict()=}\")\n",
    "print(f\"{atom1.distance_to(atom2)=}\")\n",
    "print(f\"{atom1.angle(atom2)*180/math.pi=}\")\n",
    "print()\n"
   ]
  },
  {
   "cell_type": "markdown",
   "metadata": {},
   "source": [
    "## Molecule class examples"
   ]
  },
  {
   "cell_type": "code",
   "execution_count": 12,
   "metadata": {},
   "outputs": [
    {
     "name": "stdout",
     "output_type": "stream",
     "text": [
      "Molecule(H3-N)\n",
      "mol1[0]=Atom('H', 1.000000000000, 0.000000000000, 0.000000000000)\n",
      "mol1[0:2]=Molecule(H2)\n",
      "mol1[[0, 2, 3]]=Molecule(H2-N)\n",
      "i=0, atom=Atom('H', 1.000000000000, 0.000000000000, 0.000000000000)\n",
      "i=1, atom=Atom('H', 0.000000000000, 1.000000000000, 0.000000000000)\n",
      "i=2, atom=Atom('H', 0.000000000000, 0.000000000000, 1.000000000000)\n",
      "i=3, atom=Atom('N', 1.000000000000, 1.000000000000, 1.000000000000)\n"
     ]
    }
   ],
   "source": [
    "# Basic importing\n",
    "from molgeom import Atom, Molecule\n",
    "\n",
    "# Instantiate atom objects\n",
    "atom1 = Atom('H', 1, 0, 0)\n",
    "atom2 = Atom('H', 0, 1, 0)\n",
    "atom3 = Atom('H', 0, 0, 1)\n",
    "atom4 = Atom('N', 1, 1, 1)\n",
    "mol = Molecule(atom1, atom2, atom3, atom4)\n",
    "\n",
    "# Instantiate molecule object\n",
    "mol1 = Molecule(atom1, atom2, atom3, atom4)\n",
    "print(mol1)\n",
    "\n",
    "# get atom from molecule object\n",
    "print(f\"{mol1[0]=}\")\n",
    "print(f\"{mol1[0:2]=}\")\n",
    "print(f\"{mol1[[0, 2, 3]]=}\") # supports fancy indexing\n",
    "for i, atom in enumerate(mol1):\n",
    "    print(f\"{i=}, {atom=}\")\n",
    "\n"
   ]
  }
 ],
 "metadata": {
  "kernelspec": {
   "display_name": ".venv",
   "language": "python",
   "name": "python3"
  },
  "language_info": {
   "codemirror_mode": {
    "name": "ipython",
    "version": 3
   },
   "file_extension": ".py",
   "mimetype": "text/x-python",
   "name": "python",
   "nbconvert_exporter": "python",
   "pygments_lexer": "ipython3",
   "version": "3.12.7"
  }
 },
 "nbformat": 4,
 "nbformat_minor": 2
}
