{
 "cells": [
  {
   "cell_type": "markdown",
   "metadata": {},
   "source": [
    "# molgeom example codes\n",
    "[GitHub link to molgeom source](https://github.com/sio-salt/molgeom/tree/main)  \n",
    "[GitHub link to example repo](https://github.com/sio-salt/molgeom-examples/tree/main)  \n",
    "[This Binder Page](https://mybinder.org/v2/gh/sio-salt/molgeom-examples/main?labpath=notebooks%2Ftutorial1.ipynb)  \n",
    "[Next Page](https://mybinder.org/v2/gh/sio-salt/molgeom-examples/main?labpath=notebooks%2Ftutorial2.ipynb)"
   ]
  },
  {
   "cell_type": "markdown",
   "metadata": {},
   "source": [
    "## molgeom Installation\n",
    "\n",
    "```bash\n",
    "pip install molgeom\n",
    "```\n",
    "or\n",
    "\n",
    "```bash\n",
    "git clone https://github.com/sio-salt/molgeom.git\n",
    "cd molgeom\n",
    "pip install -e .\n",
    "```"
   ]
  },
  {
   "cell_type": "markdown",
   "metadata": {},
   "source": [
    "## setup"
   ]
  },
  {
   "cell_type": "code",
   "execution_count": 1,
   "metadata": {},
   "outputs": [
    {
     "name": "stdout",
     "output_type": "stream",
     "text": [
      "Setup Done\n"
     ]
    }
   ],
   "source": [
    "%reload_ext autoreload\n",
    "%autoreload 2\n",
    "\n",
    "import os\n",
    "import sys\n",
    "import math\n",
    "from pathlib import Path\n",
    "\n",
    "current_dir = os.getcwd()\n",
    "repo_root = Path(os.path.abspath(os.path.join(current_dir, \"..\")))\n",
    "input_dir = repo_root / \"files/inputs\"\n",
    "output_dir = repo_root / \"files/outputs\"\n",
    "\n",
    "# import mol viewer func\n",
    "sys.path.append(str(repo_root / \"utils\"))\n",
    "from viewer_utils import view_mol # type: ignore\n",
    "\n",
    "print(\"Setup Done\")"
   ]
  },
  {
   "cell_type": "markdown",
   "metadata": {},
   "source": [
    "## molgeom version check"
   ]
  },
  {
   "cell_type": "code",
   "execution_count": 2,
   "metadata": {},
   "outputs": [
    {
     "name": "stdout",
     "output_type": "stream",
     "text": [
      "molgeom version: \u001b[33mWARNING: Package(s) not found: molgeom\u001b[0m\u001b[33m\n"
     ]
    }
   ],
   "source": [
    "# get molgoem version from pip\n",
    "molgeom_version = !pip show molgeom | grep Version\n",
    "print(f\"molgeom version: {molgeom_version[0]}\")"
   ]
  },
  {
   "cell_type": "markdown",
   "metadata": {},
   "source": [
    "## Atom class examples"
   ]
  },
  {
   "cell_type": "code",
   "execution_count": 3,
   "metadata": {},
   "outputs": [
    {
     "name": "stdout",
     "output_type": "stream",
     "text": [
      "atom1=Atom('O', 1.000000000000, 0.000000000000, 0.000000000000)\n"
     ]
    }
   ],
   "source": [
    "# Import Atom class\n",
    "from molgeom import Atom\n",
    "\n",
    "# Instantiate atom objects\n",
    "atom1 = Atom('O', 1, 0, 0)\n",
    "atom2 = Atom('H', 0, 1, 0)\n",
    "\n",
    "# Print atom object\n",
    "print(f\"{atom1=}\")"
   ]
  },
  {
   "cell_type": "code",
   "execution_count": 4,
   "metadata": {},
   "outputs": [
    {
     "name": "stdout",
     "output_type": "stream",
     "text": [
      "atom1.atomic_number=8\n",
      "atom1.symbol='O'\n",
      "atom1.x=1.0\n",
      "atom1.y=0.0\n",
      "atom1.z=0.0\n",
      "atom1.mass=15.9994\n",
      "atom1.charge=None\n",
      "atom1.charge=-2\n"
     ]
    }
   ],
   "source": [
    "# Print atom attributes\n",
    "print(f\"{atom1.atomic_number=}\")\n",
    "print(f\"{atom1.symbol=}\")\n",
    "print(f\"{atom1.x=}\")\n",
    "print(f\"{atom1.y=}\")\n",
    "print(f\"{atom1.z=}\")\n",
    "print(f\"{atom1.mass=}\")\n",
    "\n",
    "# default charge is None\n",
    "print(f\"{atom1.charge=}\")\n",
    "atom1.charge = -2\n",
    "print(f\"{atom1.charge=}\")"
   ]
  },
  {
   "cell_type": "code",
   "execution_count": 5,
   "metadata": {},
   "outputs": [
    {
     "name": "stdout",
     "output_type": "stream",
     "text": [
      "atom3=Atom('O', 1.000000000000, 0.000000000000, 0.000000000000)\n",
      "atom1.isclose(atom3) and not atom1.isclose(atom2)=True\n",
      "atom1=Atom('O', 2.000000000000, -1.000000000000, 2.500000000000)\n",
      "atom1=Atom('O', 1.000000000000, 2.000000000000, 2.500000000000)\n",
      "atom3=Atom('O', 1.000000000000, 0.000000000000, 0.000000000000)\n",
      "atom1.distance_to(atom2)=2.8722813232690143\n",
      "atom2.angle(atom3)*180/math.pi=90.0\n"
     ]
    }
   ],
   "source": [
    "# geometry methods\n",
    "atom3 = atom1.copy()\n",
    "print(f\"{atom3=}\")\n",
    "print(f\"{atom1.isclose(atom3) and not atom1.isclose(atom2)=}\")\n",
    "atom1.translate([1, -1, 2.5])\n",
    "print(f\"{atom1=}\")\n",
    "atom1.rotate_by_axis(axis_point1=[0, 0, 0], axis_point2=[0, 0, 1], deg=90)\n",
    "print(f\"{atom1=}\")\n",
    "print(f\"{atom3=}\")\n",
    "print(f\"{atom1.distance_to(atom2)=}\")\n",
    "print(f\"{atom2.angle(atom3)*180/math.pi=}\")"
   ]
  },
  {
   "cell_type": "code",
   "execution_count": 6,
   "metadata": {},
   "outputs": [
    {
     "name": "stdout",
     "output_type": "stream",
     "text": [
      "atom1.to_xyz()='O       1.000000000000      2.000000000000      2.500000000000'\n",
      "atom1.to_dict()={'symbol': 'O', 'x': 1.0000000000000002, 'y': 2.0, 'z': 2.5, 'mass': 15.9994, 'charge': -2, 'atomic_number': 8}\n"
     ]
    }
   ],
   "source": [
    "# other methods\n",
    "print(f\"{atom1.to_xyz()=}\")\n",
    "print(f\"{atom1.to_dict()=}\")"
   ]
  },
  {
   "cell_type": "markdown",
   "metadata": {},
   "source": [
    "## Molecule class examples"
   ]
  },
  {
   "cell_type": "code",
   "execution_count": 7,
   "metadata": {},
   "outputs": [
    {
     "name": "stdout",
     "output_type": "stream",
     "text": [
      "Molecule(H3-N)\n"
     ]
    },
    {
     "ename": "AttributeError",
     "evalue": "'Molecule' object has no attribute 'view_mol'",
     "output_type": "error",
     "traceback": [
      "\u001b[0;31m---------------------------------------------------------------------------\u001b[0m",
      "\u001b[0;31mAttributeError\u001b[0m                            Traceback (most recent call last)",
      "Cell \u001b[0;32mIn[7], line 15\u001b[0m\n\u001b[1;32m     11\u001b[0m \u001b[38;5;28mprint\u001b[39m(mol1)  \u001b[38;5;66;03m# print with atom symbols\u001b[39;00m\n\u001b[1;32m     13\u001b[0m \u001b[38;5;66;03m# molecule 3D viewer\u001b[39;00m\n\u001b[1;32m     14\u001b[0m \u001b[38;5;66;03m# If you run this in Jupyter, display in Jupyter. Otherwise, display in browser.\u001b[39;00m\n\u001b[0;32m---> 15\u001b[0m \u001b[43mmol1\u001b[49m\u001b[38;5;241;43m.\u001b[39;49m\u001b[43mview_mol\u001b[49m()\n",
      "\u001b[0;31mAttributeError\u001b[0m: 'Molecule' object has no attribute 'view_mol'"
     ]
    }
   ],
   "source": [
    "# import Molecule class\n",
    "from molgeom import Molecule\n",
    "\n",
    "a1 = Atom('H', 1, 0, 0)\n",
    "a2 = Atom('H', 0, 1, 0)\n",
    "a3 = Atom('H', 0, 0, 1)\n",
    "a4 = Atom('N', 0.7, 0.7, 0.7)\n",
    "\n",
    "# Instantiate Molecule objects\n",
    "mol1 = Molecule(a1, a2, a3, a4)\n",
    "print(mol1)  # print with atom symbols\n",
    "\n",
    "# molecule 3D viewer\n",
    "# If you run this in Jupyter, display in Jupyter. Otherwise, display in browser.\n",
    "mol1.view_mol()"
   ]
  },
  {
   "cell_type": "code",
   "execution_count": null,
   "metadata": {},
   "outputs": [],
   "source": [
    "# get atom from molecule object\n",
    "print(f\"{len(mol1)=}\")\n",
    "print(f\"{mol1[0]=}\")\n",
    "print(f\"{mol1[0]=}\")\n",
    "print(f\"{mol1[0:2]=}\")\n",
    "print(f\"{mol1[[0, 2, 3]]=}\") # supports fancy indexing\n",
    "for i, atom in enumerate(mol1):\n",
    "    print(f\"{i=}, {atom=}\")"
   ]
  },
  {
   "cell_type": "code",
   "execution_count": null,
   "metadata": {},
   "outputs": [],
   "source": [
    "# Instantiate Molecule objects from list of atoms\n",
    "mol2 = Molecule.from_atoms([a1, a2, a3, a4])\n",
    "print(f\"{mol2=}\")\n",
    "\n",
    "\n",
    "# equality check (checks if atom symbols and coordinates are the same)\n",
    "print(f\"{mol1 == mol2=}\")\n",
    "mol2[-1] = Atom('C', -1.2, -1.2, -1.2)\n",
    "print(f\"{mol1 == mol2=}\")"
   ]
  },
  {
   "cell_type": "code",
   "execution_count": null,
   "metadata": {},
   "outputs": [],
   "source": [
    "# print out coordinates\n",
    "print(mol1.to_xyz() + \"\\n\")\n",
    "print(mol2.to_xyz())"
   ]
  },
  {
   "cell_type": "code",
   "execution_count": null,
   "metadata": {},
   "outputs": [],
   "source": [
    "# basic attributes of molecule object\n",
    "print(type(mol1.atoms))\n",
    "print(mol1.atoms)"
   ]
  },
  {
   "cell_type": "code",
   "execution_count": null,
   "metadata": {},
   "outputs": [],
   "source": [
    "# sort by atomic number and xyz coords (default)\n",
    "mol = Molecule(Atom(\"Ne\", 1, 2, 3), Atom(\"He\", 4, 5, 6), Atom(\"Kr\", 7, 8, 9), Atom(\"He\", 0, -1, -2))\n",
    "print(mol.to_xyz() + \"\\n\")\n",
    "mol.sort()\n",
    "print(mol.to_xyz() + \"\\n\")\n",
    "\n",
    "mol.sort(key=lambda atom: (-atom.x, -atom.atomic_number))\n",
    "print(mol.to_xyz())"
   ]
  },
  {
   "cell_type": "code",
   "execution_count": null,
   "metadata": {},
   "outputs": [],
   "source": [
    "# methods related to symbols and coordinates\n",
    "mol = Molecule(Atom(\"Ne\", 1, 2, 3), Atom(\"He\", 4, 5, 6), Atom(\"Kr\", 7, 8, 9), Atom(\"He\", 0, -1, -2)).filtered_by_symbols([\"He\"])\n",
    "print(mol.to_xyz() + \"\\n\")\n",
    "\n",
    "# add single atom\n",
    "mol.add_atom(Atom(\"F\", -1, -1, -1))\n",
    "print(mol.to_xyz() + \"\\n\")\n",
    "\n",
    "# add multiple atoms with list\n",
    "mol.add_atoms_from([Atom(\"P\", 1, 1, 1), Atom(\"S\", 2, 2, 2)])\n",
    "print(mol.to_xyz() + \"\\n\")\n",
    "\n",
    "symbols = mol.get_symbols()\n",
    "coords = mol.get_cart_coords()\n",
    "print(f\"{symbols=}\")\n",
    "print(f\"{coords=}\")"
   ]
  },
  {
   "cell_type": "markdown",
   "metadata": {},
   "source": [
    "# file IO and molecule viewer"
   ]
  },
  {
   "cell_type": "code",
   "execution_count": null,
   "metadata": {},
   "outputs": [],
   "source": [
    "# import parser, supports xyz, gaussian input, gameess input, VASP POSCAR and CIF\n",
    "from molgeom import read_file, poscar_parser\n",
    "\n",
    "\n",
    "# read molecule from file with \"read_file\" function\n",
    "mol_xyz = read_file(input_dir / \"H2O.xyz\")\n",
    "print(f\"{mol_xyz=}\")\n",
    "print()\n",
    "\n",
    "# you can also use the from_file classmethod\n",
    "mol_gau = Molecule.from_file(input_dir / \"H2O_with_Tv.com\")\n",
    "print(f\"{mol_gau=}\")\n",
    "# if Tv is present in the input file, lattice vectors will be parsed\n",
    "print(mol_gau.lattice_vecs)\n",
    "print()\n",
    "\n",
    "mol_gam = read_file(input_dir / \"H2O.inp\")\n",
    "print(f\"{mol_gam=}\")\n",
    "print()\n",
    "\n",
    "# you can use file specific parser functions instead of read_file\n",
    "mol_vasp = read_file(input_dir / \"POSCAR_H2O\")\n",
    "mol_vasp = poscar_parser(input_dir / \"POSCAR_H2O\")   # this will also work\n",
    "print(f\"{mol_vasp=}\")\n",
    "print(mol_vasp.lattice_vecs)\n",
    "print()\n",
    "\n",
    "mol_cif = read_file(input_dir / \"H2O.cif\")\n",
    "print(f\"{mol_cif=}\")\n",
    "print(mol_cif.lattice_vecs)\n",
    "print()\n",
    "\n",
    "\n",
    "# view molecules using 3Dmol.js\n",
    "# This method creates a temporary html.\n",
    "# cleanup=True will delete the tmp html\n",
    "#  prefer_notebook=True will display the molecule in notebook, otherwise it will open in browser\n",
    "mols = [mol_xyz, mol_gau, mol_gam, mol_vasp, mol_cif]\n",
    "Molecule.view_mols(mols, cleanup=True, prefer_notebook=True)"
   ]
  },
  {
   "cell_type": "code",
   "execution_count": null,
   "metadata": {},
   "outputs": [],
   "source": [
    "from molgeom.parsers import gau_inp_head_tail\n",
    "\n",
    "head, tail = gau_inp_head_tail(input_dir / \"H2O_with_Tv.com\")\n",
    "print(\"head\")\n",
    "print(head)\n",
    "print(\"tail\")\n",
    "print(tail)"
   ]
  },
  {
   "cell_type": "code",
   "execution_count": null,
   "metadata": {},
   "outputs": [],
   "source": [
    "mol = read_file(input_dir / \"H2O_with_Tv.com\")\n",
    "\n",
    "# write to file examples\n",
    "mol.write_to_xyz(filepath=output_dir / \"H2O_written.xyz\")\n",
    "mol.write_to_gaussian_input(filepath=output_dir / \"H2O_written.com\", head=head, tail=tail)\n",
    "mol.write_to_gamess_input(filepath=output_dir / \"H2O_written.inp\")\n",
    "mol.write_to_poscar(filepath=output_dir / \"H2O_written.vasp\")\n",
    "mol.write_to_cif(filepath=output_dir / \"H2O_written.cif\")"
   ]
  },
  {
   "cell_type": "markdown",
   "metadata": {},
   "source": [
    "# geometry manipulation methods of Molecule"
   ]
  },
  {
   "cell_type": "code",
   "execution_count": null,
   "metadata": {},
   "outputs": [],
   "source": [
    "mol = read_file(input_dir / \"H2O.xyz\")\n",
    "\n",
    "print(\"Original\")\n",
    "print(mol.to_xyz() + \"\\n\")\n",
    "mol_copy = mol.copy()\n",
    "\n",
    "mol.translate([10, 10, 10])\n",
    "print(\"Translated\")\n",
    "print(mol.to_xyz() + \"\\n\")\n",
    "\n",
    "mol.rotate_by_axis(axis_point1=[10, 10, 10], axis_point2=[10, 10, 11], deg=90)\n",
    "print(\"Rotated\")\n",
    "print(mol.to_xyz() + \"\\n\")\n",
    "\n",
    "mol.mirror_by_plane(p1=[10, 10, 10], p2=[10, 10, 11], p3=[10, 11, 10])\n",
    "print(\"Mirrored\")\n",
    "print(mol.to_xyz() + \"\\n\")\n",
    "\n",
    "mol.matmul([[0, 1, 0], [1, 0, 0], [0, 0, 1]])\n",
    "print(\"Matrix multiplied\")\n",
    "print(mol.to_xyz() + \"\\n\")"
   ]
  },
  {
   "cell_type": "code",
   "execution_count": null,
   "metadata": {},
   "outputs": [],
   "source": [
    "mol.merge(mol_copy)\n",
    "print(\"Merged\")\n",
    "print(mol.to_xyz() + \"\\n\")"
   ]
  },
  {
   "cell_type": "markdown",
   "metadata": {},
   "source": [
    "# calculation methods of Molecule"
   ]
  },
  {
   "cell_type": "code",
   "execution_count": null,
   "metadata": {},
   "outputs": [],
   "source": [
    "mol = read_file(input_dir / \"H2O.xyz\")\n",
    "print(f\"{mol}\\n\")\n",
    "\n",
    "print(f\"{mol.total_mass()=}\\n\")\n",
    "\n",
    "print(f\"{mol.center_of_mass()=}\\n\")\n",
    "for bond in mol.get_bonds():\n",
    "    print(bond)\n",
    "\n",
    "mol_copy = mol.copy()\n",
    "mol_copy.translate([10, 10, 10])\n",
    "mol.merge(mol_copy)\n",
    "print(f\"\\n{mol}\\n\")\n",
    "\n",
    "print(f\"{mol.get_clusters()=}\\n\")\n",
    "\n",
    "print(f\"{mol.get_connected_cluster(atom_idx=0)=}\\n\")\n",
    "\n",
    "print(f\"{mol.nuclear_repulsion()=}\\n\")"
   ]
  },
  {
   "cell_type": "code",
   "execution_count": null,
   "metadata": {},
   "outputs": [],
   "source": [
    "mol_c60 = read_file(input_dir / \"C60_gau.com\")\n",
    "print(f\"{mol_c60}\\n\")\n",
    "\n",
    "cycles = mol_c60.get_cycles(length_bound=6)\n",
    "print([cycle for cycle in cycles if len(cycle) == 6])\n",
    "print([cycle for cycle in cycles if len(cycle) == 5])"
   ]
  },
  {
   "cell_type": "markdown",
   "metadata": {},
   "source": [
    "# lattice methods"
   ]
  },
  {
   "cell_type": "code",
   "execution_count": null,
   "metadata": {},
   "outputs": [],
   "source": [
    "# you can set lattice vectors (3x3 matrix, row: lattice vector, column: x, y, z)\n",
    "mol = Molecule(Atom(\"O\", 0, 1, 0), Atom(\"H\", 1, 0, 0), Atom(\"H\", -1, 0, 0))\n",
    "mol.lattice_vecs = [[10, 0, 0], [0, 10, 0], [0, 0, 10]]\n",
    "print(f\"\\nlattice vectors\\n{mol.lattice_vecs}\\n\")\n",
    "\n",
    "print(\"get fractional coordinates\")\n",
    "frac_coords = mol.get_frac_coords()\n",
    "for fc in frac_coords:\n",
    "    print(fc)"
   ]
  },
  {
   "cell_type": "code",
   "execution_count": null,
   "metadata": {},
   "outputs": [],
   "source": [
    "mol = Molecule(Atom(\"O\", 0, 1, 0), Atom(\"H\", 1, 0, 0), Atom(\"H\", -1, 0, 0))\n",
    "mol.lattice_vecs = [[10, 0, 0], [0, 10, 0], [0, 0, 10]]\n",
    "\n",
    "# Create supercells by translating the structure using lattice vectors\n",
    "mol.replicate(rep_a=[0, 2], rep_b=[-1, 0], rep_c=[1, 2])\n",
    "print(\"\\nreplicated structure\")\n",
    "print(f\"{mol.to_xyz()}\")\n",
    "\n",
    "\n",
    "# delete atoms\n",
    "del mol[3:]\n",
    "print(\"\\ndeleted atoms\")\n",
    "print(f\"{mol.to_xyz()}\")\n",
    "\n",
    "\n",
    "# replicate cell using xyz string (CIF format)\n",
    "repmol = mol.replicated_from_xyz_str('-y, -x+3/4, z+1/2', wrap=False)\n",
    "print(\"\\nxyz replicated structure\")\n",
    "print(f\"{repmol.to_xyz()}\")\n",
    "\n",
    "\n",
    "# wrap atoms to cell\n",
    "repmol.wrap_to_cell()\n",
    "print(\"\\nwrapped structure\")\n",
    "print(f\"{repmol.to_xyz()}\\n\")"
   ]
  },
  {
   "cell_type": "code",
   "execution_count": null,
   "metadata": {},
   "outputs": [],
   "source": [
    "mol = Molecule(Atom(\"H\", 1, 1, 1), Atom(\"H\", 2, 2, 2), Atom(\"H\", 11, 11, 11))\n",
    "mol.lattice_vecs = [[10, 0, 0], [0, 10, 0], [0, 0, 10]]\n",
    "\n",
    "mol.wrap_to_cell()\n",
    "print(\"wrapped structure\")\n",
    "print(f\"{mol.to_xyz()}\\n\")\n",
    "\n",
    "\n",
    "mol.remove_duplicates()\n",
    "print(\"removed duplicates\")\n",
    "print(f\"{mol.to_xyz()}\\n\")\n",
    "\n",
    "# check if an atom is inside the cell\n",
    "print(f\"{mol.is_inside_cell(Atom('H', 1, 2, 3))=}\")\n",
    "print(f\"{mol.is_inside_cell(Atom('H', -1, -1, -1))=}\")"
   ]
  }
 ],
 "metadata": {
  "kernelspec": {
   "display_name": ".venv",
   "language": "python",
   "name": "python3"
  },
  "language_info": {
   "codemirror_mode": {
    "name": "ipython",
    "version": 3
   },
   "file_extension": ".py",
   "mimetype": "text/x-python",
   "name": "python",
   "nbconvert_exporter": "python",
   "pygments_lexer": "ipython3",
   "version": "3.12.7"
  }
 },
 "nbformat": 4,
 "nbformat_minor": 4
}
