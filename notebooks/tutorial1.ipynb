{
 "cells": [
  {
   "cell_type": "markdown",
   "metadata": {},
   "source": [
    "# molgeom example codes"
   ]
  },
  {
   "cell_type": "markdown",
   "metadata": {},
   "source": [
    "## Installation\n",
    "\n",
    "```bash\n",
    "pip install -U git+https://github.com/sio-salt/molgeom@main\n",
    "```\n",
    "or\n",
    "\n",
    "```bash\n",
    "git clone https://github.com/sio-salt/molgeom.git\n",
    "cd molgeom\n",
    "pip install -e .\n",
    "```"
   ]
  },
  {
   "cell_type": "code",
   "execution_count": 34,
   "metadata": {},
   "outputs": [
    {
     "name": "stdout",
     "output_type": "stream",
     "text": [
      "Instantiate atom objects\n",
      "Print atom1 object\n",
      "atom1=Atom('O', 1.000000000000, 0.000000000000, 0.000000000000)\n",
      "Print atom attributes\n",
      "atom1.atomic_number=8\n",
      "atom1.symbol='O'\n",
      "atom1.x=1.0\n",
      "atom1.y=0.0\n",
      "atom1.z=0.0\n",
      "atom1.mass=15.9994\n",
      "\n",
      "geometry manipulation\n",
      "atom1.distance_to(atom2)=1.4142135623730951\n",
      "atom1.angle(atom2)*180/math.pi=90.0\n",
      "atom1=Atom('O', 2.000000000000, -1.000000000000, 2.500000000000)\n",
      "atom3=Atom('O', 2.000000000000, -1.000000000000, 2.500000000000)\n",
      "atom1.isclose(atom3) and not atom1.isclose(atom2)=True\n",
      "\n",
      "default charge is None\n",
      "atom1.charge=None\n",
      "atom1.charge=-2\n",
      "\n",
      "\n",
      "Atom methods\n",
      "atom1.to_xyz()='O       2.000000000000     -1.000000000000      2.500000000000'\n",
      "atom1.to_dict()={'symbol': 'O', 'x': 2.0, 'y': -1.0, 'z': 2.5, 'mass': 15.9994, 'charge': -2, 'atomic_number': 8}\n",
      "\n"
     ]
    }
   ],
   "source": [
    "# Basic importing\n",
    "from molgeom import Atom\n",
    "import math\n",
    "\n",
    "print(\"Instantiate atom objects\")\n",
    "atom1 = Atom('O', 1, 0, 0)\n",
    "atom2 = Atom('H', 0, 1, 0)\n",
    "\n",
    "print(\"Print atom1 object\")\n",
    "print(f\"{atom1=}\")\n",
    "\n",
    "print(\"Print atom attributes\")\n",
    "print(f\"{atom1.atomic_number=}\")\n",
    "print(f\"{atom1.symbol=}\")\n",
    "print(f\"{atom1.x=}\")\n",
    "print(f\"{atom1.y=}\")\n",
    "print(f\"{atom1.z=}\")\n",
    "print(f\"{atom1.mass=}\")\n",
    "print()\n",
    "\n",
    "print(\"geometry manipulation\")\n",
    "print(f\"{atom1.distance_to(atom2)=}\")\n",
    "print(f\"{atom1.angle(atom2)*180/math.pi=}\")\n",
    "atom1.translate([1, -1, 2.5])\n",
    "print(f\"{atom1=}\")\n",
    "atom3 = atom1.copy()\n",
    "print(f\"{atom3=}\")\n",
    "print(f\"{atom1.isclose(atom3) and not atom1.isclose(atom2)=}\")\n",
    "print()\n",
    "\n",
    "print(\"default charge is None\")\n",
    "print(f\"{atom1.charge=}\")\n",
    "atom1.charge = -2\n",
    "print(f\"{atom1.charge=}\\n\")\n",
    "print()\n",
    "\n",
    "print(\"Atom methods\")\n",
    "print(f\"{atom1.to_xyz()=}\")\n",
    "print(f\"{atom1.to_dict()=}\")\n",
    "print()\n",
    "\n"
   ]
  },
  {
   "cell_type": "code",
   "execution_count": null,
   "metadata": {},
   "outputs": [],
   "source": [
    "# Basic importing\n",
    "from molgeom import Atom, Molecule\n",
    "\n",
    "# Instantiate atom objects\n",
    "atom1 = Atom('H', 1, 0, 0)\n",
    "atom2 = Atom('H', 0, 1, 0)\n",
    "atom3 = Atom('H', 0, 0, 1)\n",
    "atom4 = Atom('N', 1, 1, 1)\n",
    "\n",
    "display(atom1)\n",
    "display(atom1.symbol)\n",
    "display(atom1)\n",
    "display(atom1.x)\n",
    "display(atom1.y)\n",
    "display(atom1.z)\n",
    "\n",
    "mol1 = Molecule(atom1, atom2, atom3, atom4)\n",
    "display(mol1)\n",
    "\n"
   ]
  }
 ],
 "metadata": {
  "kernelspec": {
   "display_name": ".venv",
   "language": "python",
   "name": "python3"
  },
  "language_info": {
   "codemirror_mode": {
    "name": "ipython",
    "version": 3
   },
   "file_extension": ".py",
   "mimetype": "text/x-python",
   "name": "python",
   "nbconvert_exporter": "python",
   "pygments_lexer": "ipython3",
   "version": "3.12.7"
  }
 },
 "nbformat": 4,
 "nbformat_minor": 2
}
