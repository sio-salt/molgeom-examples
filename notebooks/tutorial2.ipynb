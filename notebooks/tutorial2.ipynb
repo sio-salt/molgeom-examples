{
 "cells": [
  {
   "cell_type": "markdown",
   "metadata": {},
   "source": [
    "[GitHub link to molgeom source](https://github.com/sio-salt/molgeom/tree/main)  \n",
    "[GitHub link to example repo](https://github.com/sio-salt/molgeom-examples/tree/main)  \n",
    "[molgeom command line scripts](https://github.com/sio-salt/molgeom/tree/main/interfaces)  \n",
    "[This Binder Page](https://mybinder.org/v2/gh/sio-salt/molgeom-examples/main?labpath=notebooks%2Ftutorial2.ipynb)"
   ]
  },
  {
   "cell_type": "markdown",
   "metadata": {},
   "source": [
    "# molgeom command line tool tutorial\n",
    "The molgeom library provides command line tools for working with molecular geometries.  \n",
    "Commands are immediately available after installing the molgeom package.  \n",
    "This tutorial demonstrates how to use the molgeom command line tools.\n",
    "\n",
    "## available commands:\n",
    "- `molgeom center <file1> <file2> ...`\n",
    "    - calculate the center of mass for multiple molecules\n",
    "    - output: stdout\n",
    "- `molgeom nuclrep <file1> <file2> ...`\n",
    "    - calculate nuclear repulsion energy for multiple molecules\n",
    "    - output: stdout\n",
    "- `molgeom bonds <file1> <file2> ... [--tol]`\n",
    "    - list bonds for multiple molecules\n",
    "    - optional: --tol parameter to set bond detection tolerance\n",
    "- `molgeom modify <file> [-op <op>]`\n",
    "    - transform structure (translate/reflect/rotate)\n",
    "    - specify operation with -op parameter\n",
    "- `molgeom poscar2xyz <file> <ranges>`\n",
    "    - convert POSCAR file with cell replication\n",
    "    - arguments: specify ranges for a, b, c cell vectors\n",
    "    - e.g. `molgeom poscar2xyz POSCAR -1 2 -1 2 -1 2`\n",
    "- `molgeom split <file>`\n",
    "    - split structure into molecular clusters\n",
    "    - output: stdout\n",
    "- `molgeom view <file1> <file2> ...`\n",
    "    - display molecules in browser using 3Dmol.js\n",
    "    - note: requires a web browser"
   ]
  },
  {
   "cell_type": "markdown",
   "metadata": {},
   "source": [
    "## example usage"
   ]
  },
  {
   "cell_type": "code",
   "execution_count": 1,
   "metadata": {},
   "outputs": [
    {
     "name": "stdout",
     "output_type": "stream",
     "text": [
      "C14N2H8S4.xyz\tCa8B20H8O40Cl4.cif  H2O.cif  H2O_with_Tv.com\n",
      "C60_gau.com\tCr2C4H4O8.xyz\t    H2O.inp  POSCAR_H2O\n",
      "C8H15F6N2P.cif\tCuCl.cif\t    H2O.xyz  graphite_3layers.gjf\n"
     ]
    }
   ],
   "source": [
    "!ls ../files/inputs/"
   ]
  },
  {
   "cell_type": "code",
   "execution_count": 2,
   "metadata": {},
   "outputs": [
    {
     "name": "stdout",
     "output_type": "stream",
     "text": [
      "\n",
      "../files/inputs/C14N2H8S4.xyz\n",
      "     4.194487098486      3.990201233962      1.277723035729\n",
      "\n",
      "../files/inputs/C60_gau.com\n",
      "    -3.073039667053      0.063396999470     -3.199653277363\n",
      "\n",
      "../files/inputs/C8H15F6N2P.cif\n",
      "     1.476716150138      3.437006307335      3.990490331474\n",
      "\n",
      "../files/inputs/Ca8B20H8O40Cl4.cif\n",
      "     5.710803775360      5.659000000000      3.072917997188\n",
      "\n",
      "../files/inputs/Cr2C4H4O8.xyz\n",
      "     0.000000000000      0.000000000000      0.000001590313\n",
      "\n",
      "../files/inputs/CuCl.cif\n",
      "     3.261860795000      3.261860795000      3.261860795000\n",
      "\n",
      "../files/inputs/H2O.cif\n",
      "     5.983675765958      1.786774315826     11.157391812339\n",
      "\n",
      "../files/inputs/H2O.inp\n",
      "     0.000000000000      0.000000000000      0.056016682974\n",
      "\n",
      "../files/inputs/H2O.xyz\n",
      "     0.000000000000      0.000000000000      0.056016682974\n",
      "\n",
      "../files/inputs/H2O_with_Tv.com\n",
      "     7.876002709207      7.301632110969      1.277522359971\n",
      "\n",
      "../files/inputs/POSCAR_H2O\n",
      "     7.876002709207      7.301632110969      1.277522359972\n",
      "\n",
      "../files/inputs/graphite_3layers.gjf\n",
      "     4.393770500000      7.467064500000      3.350000000000\n"
     ]
    }
   ],
   "source": [
    "!molgeom center ../files/inputs/*"
   ]
  },
  {
   "cell_type": "code",
   "execution_count": 3,
   "metadata": {},
   "outputs": [
    {
     "name": "stdout",
     "output_type": "stream",
     "text": [
      "\n",
      "../files/inputs/C14N2H8S4.xyz\n",
      " 1917.6677063838674\n",
      "\n",
      "../files/inputs/C60_gau.com\n",
      " 8343.029735509086\n",
      "\n",
      "../files/inputs/C8H15F6N2P.cif\n",
      " 4432.940146600134\n",
      "\n",
      "../files/inputs/Ca8B20H8O40Cl4.cif\n",
      " 20350.707233244306\n",
      "\n",
      "../files/inputs/Cr2C4H4O8.xyz\n",
      " 1829.7958124582678\n",
      "\n",
      "../files/inputs/CuCl.cif\n",
      " 8479.659144405166\n",
      "\n",
      "../files/inputs/H2O.cif\n",
      " 9.077009751678323\n",
      "\n",
      "../files/inputs/H2O.inp\n",
      " 8.905985670246737\n",
      "\n",
      "../files/inputs/H2O.xyz\n",
      " 8.905985670246737\n",
      "\n",
      "../files/inputs/H2O_with_Tv.com\n",
      " 9.002532432268307\n",
      "\n",
      "../files/inputs/POSCAR_H2O\n",
      " 9.002532432265156\n",
      "\n",
      "../files/inputs/graphite_3layers.gjf\n",
      " 165789.23882174745\n"
     ]
    }
   ],
   "source": [
    "!molgeom nuclrep ../files/inputs/*"
   ]
  },
  {
   "cell_type": "code",
   "execution_count": 4,
   "metadata": {},
   "outputs": [
    {
     "name": "stdout",
     "output_type": "stream",
     "text": [
      "\n",
      "../files/inputs/H2O.cif\n",
      "Number of bonds: 2\n",
      "Bond tolerance: 0.3\n",
      "label   bond length (Angstrom)       atom1                                                                          -     atom2\n",
      "  0          0.908577820             1   Atom(H ,      5.794046794642,      1.720258515253,     10.306435283174)    -     3   Atom(O ,      5.933689406142,      1.788875010837,     11.201591902180)\n",
      "  1          1.038869556             2   Atom(H ,      6.966756495542,      1.819945016736,     11.306744161300)    -     3   Atom(O ,      5.933689406142,      1.788875010837,     11.201591902180)\n",
      "\n",
      "../files/inputs/H2O.inp\n",
      "Number of bonds: 2\n",
      "Bond tolerance: 0.3\n",
      "label   bond length (Angstrom)       atom1                                                                          -     atom2\n",
      "  0          0.989464529             1   Atom(O ,      0.000000000000,      0.000000000000,      0.127164000000)    -     2   Atom(H ,      0.000000000000,      0.758137000000,     -0.508657000000)\n",
      "  1          0.989464529             1   Atom(O ,      0.000000000000,      0.000000000000,      0.127164000000)    -     3   Atom(H ,      0.000000000000,     -0.758137000000,     -0.508657000000)\n",
      "\n",
      "../files/inputs/H2O.xyz\n",
      "Number of bonds: 2\n",
      "Bond tolerance: 0.3\n",
      "label   bond length (Angstrom)       atom1                                                                          -     atom2\n",
      "  0          0.989464529             1   Atom(O ,      0.000000000000,      0.000000000000,      0.127164000000)    -     2   Atom(H ,      0.000000000000,      0.758137000000,     -0.508657000000)\n",
      "  1          0.989464529             1   Atom(O ,      0.000000000000,      0.000000000000,      0.127164000000)    -     3   Atom(H ,      0.000000000000,     -0.758137000000,     -0.508657000000)\n",
      "\n",
      "../files/inputs/H2O_with_Tv.com\n",
      "Number of bonds: 2\n",
      "Bond tolerance: 0.3\n",
      "label   bond length (Angstrom)       atom1                                                                          -     atom2\n",
      "  0          0.978288365             1   Atom(H ,      7.956428029913,      7.444079232721,      0.351308169034)    -     3   Atom(O ,      7.819851318166,      7.285582991773,      1.306961803501)\n",
      "  1          0.976050881             2   Atom(H ,      8.686888940596,      7.413938523823,      1.736433504290)    -     3   Atom(O ,      7.819851318166,      7.285582991773,      1.306961803501)\n",
      "\n",
      "../files/inputs/POSCAR_H2O\n",
      "Number of bonds: 2\n",
      "Bond tolerance: 0.3\n",
      "label   bond length (Angstrom)       atom1                                                                          -     atom2\n",
      "  0          0.978288365             1   Atom(H ,      7.956428029913,      7.444079232721,      0.351308169034)    -     3   Atom(O ,      7.819851318166,      7.285582991773,      1.306961803501)\n",
      "  1          0.976050881             2   Atom(H ,      8.686888940596,      7.413938523823,      1.736433504290)    -     3   Atom(O ,      7.819851318166,      7.285582991773,      1.306961803501)\n"
     ]
    }
   ],
   "source": [
    "!molgeom bonds --tol 0.3 ../files/inputs/*H2O*"
   ]
  },
  {
   "cell_type": "code",
   "execution_count": 5,
   "metadata": {},
   "outputs": [
    {
     "name": "stdout",
     "output_type": "stream",
     "text": [
      "Usage: molgeom poscar2xyz [OPTIONS] FILE CELL_RANGE...\n",
      "Try 'molgeom poscar2xyz --help' for help.\n",
      "\n",
      "Error: No such option: -1\n"
     ]
    }
   ],
   "source": [
    "!molgeom poscar2xyz ../files/inputs/POSCAR_H2O -1 2 -1 0 1 2"
   ]
  },
  {
   "cell_type": "code",
   "execution_count": 6,
   "metadata": {},
   "outputs": [
    {
     "name": "stdout",
     "output_type": "stream",
     "text": [
      "\n",
      "../files/inputs/C8H15F6N2P.cif\n",
      "clusters: [Molecule(H3-C-F5-P), Molecule(H2-C2-N-F), Molecule(H8-C5-N), Molecule(H2-C2-N-F), Molecule(H), Molecule(H), Molecule(H3-C-F5-P), Molecule(H8-C5-N), Molecule(H), Molecule(H)]\n",
      "Molecule(H3-C-F5-P)\n",
      "P       6.009400340000      1.185248844866      0.434872260412\n",
      "F       5.531129600000      1.192086578698      1.823448834013\n",
      "F       4.521417680000      0.278462719511      0.343878588551\n",
      "F       6.995597940000     -0.080783470983      0.697332371064\n",
      "F       7.504489940000      2.100948490453      0.493819022249\n",
      "F       5.039346900000      2.451584982308      0.146762942526\n",
      "C       7.083250200000      0.714370766775      1.153133457496\n",
      "H       7.966792000000      0.197894082598      1.270977966313\n",
      "H       7.364895600000      1.624009504906      1.139619744645\n",
      "H       6.276042200000      0.451690313314      1.796708309445\n",
      "\n",
      "Molecule(H2-C2-N-F)\n",
      "F       2.696204313254     -0.631501486487      7.005482406666\n",
      "N       2.751480513254     -1.319343820102      7.978366915636\n",
      "C       1.766160313254     -0.543350095725      7.364298622248\n",
      "H       1.275693713254      0.217556060116      7.614174117806\n",
      "C       1.579274113254     -1.075614265110      6.362526069030\n",
      "H       0.988783913254     -0.731832336581      5.735956180507\n",
      "\n",
      "Molecule(H8-C5-N)\n",
      "N       2.534808600000      0.342537783515      1.602439976087\n",
      "C       1.834643400000      0.463040292729      0.615026870196\n",
      "H       1.157290600000      1.146574719898      0.386384929753\n",
      "C       2.328619600000      1.188879311224      2.557096050846\n",
      "H       1.898693600000      2.000379100735      2.264281907188\n",
      "H       3.326223400000      1.382595376701      2.789173722370\n",
      "C       1.311713000000      0.511585692724      3.658344614360\n",
      "H       1.227482600000      1.072080276555      4.275747079560\n",
      "H       1.786386400000     -0.272710878510      3.965329998163\n",
      "C      -0.297438600000      0.144490482561      3.419481621955\n",
      "H      -0.227246600000     -0.459840366824      2.838859212233\n",
      "H      -0.764215400000      0.918260504330      3.078188243355\n",
      "C      -1.305571200000     -0.488630221915      4.551064364249\n",
      "H      -1.396820800000      0.120532987181      5.128054207679\n",
      "\n",
      "Molecule(H2-C2-N-F)\n",
      "F       0.257227987022      7.505514101158      0.975498256282\n",
      "N       0.201951787022      8.193356434773      0.002613747312\n",
      "C       1.187271987022      7.417362710396      0.616682040700\n",
      "H       1.677738587022      6.656456554555      0.366806545143\n",
      "C       1.374158187022      7.949626879781      1.618454593918\n",
      "H       1.964648387022      7.605844951251      2.245024482441\n",
      "\n",
      "Molecule(H3-C-F5-P)\n",
      "P      -3.055968039724      5.688763769804      7.546108402536\n",
      "F      -2.577697299724      5.681926035973      6.157531828935\n",
      "F      -1.567985379724      6.595549895160      7.637102074397\n",
      "F      -4.042165639724      6.954796085654      7.283648291884\n",
      "F      -4.551057639724      4.773064124218      7.487161640700\n",
      "F      -2.085914599724      4.422427632363      7.834217720423\n",
      "C      -4.129817899724      6.159641847895      6.827847205452\n",
      "H      -5.013359699724      6.676118532072      6.710002696635\n",
      "H      -4.411463299724      5.250003109764      6.841360918304\n",
      "H      -3.322609899724      6.422322301356      6.184272353503\n",
      "\n",
      "Molecule(H8-C5-N)\n",
      "N       0.418623700276      6.531474831155      6.378540686861\n",
      "C       1.118788900276      6.410972321941      7.365953792752\n",
      "H       1.796141700276      5.727437894773      7.594595733195\n",
      "C       0.624812700276      5.685133303447      5.423884612102\n",
      "H       1.054738700276      4.873633513935      5.716698755761\n",
      "H      -0.372791099724      5.491417237969      5.191806940578\n",
      "C       1.641719300276      6.362426921947      4.322636048588\n",
      "H       1.725949700276      5.801932338116      3.705233583388\n",
      "H       1.167045900276      7.146723493181      4.015650664786\n",
      "C       3.250870900276      6.729522132110      4.561499040993\n",
      "H       3.180678900276      7.333852981495      5.142121450715\n",
      "H       3.717647700276      5.955752110341      4.902792419594\n",
      "C       4.259003500276      7.362642836586      3.429916298699\n",
      "H       4.350253100276      6.753479627490      2.852926455270\n",
      "\n"
     ]
    }
   ],
   "source": [
    "!molgeom split ../files/inputs/C8H15F6N2P.cif"
   ]
  },
  {
   "cell_type": "code",
   "execution_count": 7,
   "metadata": {},
   "outputs": [],
   "source": [
    "# this will not work in jupyter lab. you can use this in your local where browser is available\n",
    "!molgeom view ../files/inputs/*"
   ]
  }
 ],
 "metadata": {
  "kernelspec": {
   "display_name": ".venv",
   "language": "python",
   "name": "python3"
  },
  "language_info": {
   "codemirror_mode": {
    "name": "ipython",
    "version": 3
   },
   "file_extension": ".py",
   "mimetype": "text/x-python",
   "name": "python",
   "nbconvert_exporter": "python",
   "pygments_lexer": "ipython3",
   "version": "3.12.7"
  }
 },
 "nbformat": 4,
 "nbformat_minor": 4
}
