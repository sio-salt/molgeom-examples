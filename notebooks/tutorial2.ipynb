{
 "cells": [
  {
   "cell_type": "markdown",
   "metadata": {},
   "source": [
    "[GitHub link to molgeom source](https://github.com/sio-salt/molgeom/tree/main)  \n",
    "[GitHub link to example repo](https://github.com/sio-salt/molgeom-examples/tree/main)  \n",
    "[molgeom command line scripts](https://github.com/sio-salt/molgeom/tree/main/interfaces)  \n",
    "[molgeom PyPI](https://pypi.org/project/molgeom/)"
   ]
  },
  {
   "cell_type": "markdown",
   "metadata": {},
   "source": [
    "# molgeom command line tool tutorial\n",
    "The molgeom library provides command line tools for working with molecular geometries.  \n",
    "Commands are immediately available after installing the molgeom package.  \n",
    "This tutorial demonstrates how to use the molgeom command line tools.\n",
    "\n",
    "## available commands:\n",
    "- `molgeom center <file1> <file2> ...`\n",
    "    - calculate the center of mass for multiple molecules\n",
    "    - output: stdout\n",
    "- `molgeom nuclrep <file1> <file2> ...`\n",
    "    - calculate nuclear repulsion energy for multiple molecules\n",
    "    - output: stdout\n",
    "- `molgeom bonds <file1> <file2> ... [--tol]`\n",
    "    - list bonds for multiple molecules\n",
    "    - optional: --tol parameter to set bond detection tolerance\n",
    "- `molgeom modify <file> [-op <op>]`\n",
    "    - transform structure (translate/reflect/rotate)\n",
    "    - specify operation with -op parameter\n",
    "- `molgeom poscar2xyz <file> <ranges>`\n",
    "    - convert POSCAR file with cell replication\n",
    "    - arguments: specify ranges for a, b, c cell vectors\n",
    "    - e.g. `molgeom poscar2xyz POSCAR -1 2 -1 2 -1 2`\n",
    "- `molgeom split <file>`\n",
    "    - split structure into molecular clusters\n",
    "    - output: stdout\n",
    "- `molgeom view <file1> <file2> ...`\n",
    "    - display molecules in browser using 3Dmol.js\n",
    "    - note: requires a web browser"
   ]
  },
  {
   "cell_type": "markdown",
   "metadata": {},
   "source": [
    "## example usage"
   ]
  },
  {
   "cell_type": "code",
   "execution_count": null,
   "metadata": {},
   "outputs": [],
   "source": [
    "!ls ../files/inputs/"
   ]
  },
  {
   "cell_type": "code",
   "execution_count": null,
   "metadata": {},
   "outputs": [],
   "source": [
    "!molgeom center ../files/inputs/*"
   ]
  },
  {
   "cell_type": "code",
   "execution_count": null,
   "metadata": {},
   "outputs": [],
   "source": [
    "!molgeom nuclrep ../files/inputs/*"
   ]
  },
  {
   "cell_type": "code",
   "execution_count": null,
   "metadata": {},
   "outputs": [],
   "source": [
    "!molgeom bonds --tol 0.3 ../files/inputs/*H2O*"
   ]
  },
  {
   "cell_type": "code",
   "execution_count": null,
   "metadata": {},
   "outputs": [],
   "source": [
    "!molgeom poscar2xyz ../files/inputs/POSCAR_H2O -1 2 -1 0 1 2"
   ]
  },
  {
   "cell_type": "code",
   "execution_count": null,
   "metadata": {},
   "outputs": [],
   "source": [
    "!molgeom split ../files/inputs/graphite_3layers.gjf"
   ]
  },
  {
   "cell_type": "code",
   "execution_count": 7,
   "metadata": {},
   "outputs": [],
   "source": [
    "# this will not work in jupyter lab. you can use this in your local where browser is available\n",
    "# !molgeom view ../files/inputs/*"
   ]
  }
 ],
 "metadata": {
  "kernelspec": {
   "display_name": ".venv",
   "language": "python",
   "name": "python3"
  },
  "language_info": {
   "codemirror_mode": {
    "name": "ipython",
    "version": 3
   },
   "file_extension": ".py",
   "mimetype": "text/x-python",
   "name": "python",
   "nbconvert_exporter": "python",
   "pygments_lexer": "ipython3",
   "version": "3.12.7"
  }
 },
 "nbformat": 4,
 "nbformat_minor": 4
}
