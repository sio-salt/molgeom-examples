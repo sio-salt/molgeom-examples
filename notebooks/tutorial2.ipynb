{
 "cells": [
  {
   "cell_type": "markdown",
   "metadata": {},
   "source": [
    "[GitHub link to molgeom source](https://github.com/sio-salt/molgeom/tree/main)  \n",
    "[GitHub link to example repo](https://github.com/sio-salt/molgeom-examples/tree/main)  \n",
    "[molgeom command line scripts](https://github.com/sio-salt/molgeom/tree/main/interfaces)  \n",
    "[This Binder Page](https://mybinder.org/v2/gh/sio-salt/molgeom-examples/main?labpath=notebooks%2Ftutorial2.ipynb)"
   ]
  },
  {
   "cell_type": "markdown",
   "metadata": {},
   "source": [
    "# molgeom command line tool tutorial\n",
    "The molgeom library provides some command line tools for working with molecular geometries.  \n",
    "Commands are immediately available after installing the molgeom package.  \n",
    "This tutorial demonstrates how to use the molgeom command line tools.\n",
    "\n",
    "## available commands:\n",
    "- `mass-center`\n",
    "    - calculate the mass center of a molecule\n",
    "    - arguments: `file1 file2 ...`\n",
    "    - output: stdout\n",
    "- `nuclear-repulsion`\n",
    "    - calculate the nuclear repulsion energy of a molecule\n",
    "    - arguments: `file1 file2 ...`\n",
    "    - output: stdout\n",
    "- `mol-bonds`\n",
    "    - calculate the bonds of a molecule\n",
    "- `geom-modifier`\n",
    "    - ...\n",
    "- `poscar2xyz`\n",
    "  - convert a POSCAR file to an XYZ file\n",
    "  - arguments: `poscar_file a_ini a_fin b_ini b_fin c_ini c_fin`\n",
    "      - e.g. `poscar2xyz POSCAR -1 2 -1 2 -1 2`\n",
    "  - output: stdout\n",
    "- `split-mol-clusters`\n",
    "  - split a molecule into clusters\n",
    "  - arguments: `file`\n",
    "  - output: stdout"
   ]
  },
  {
   "cell_type": "code",
   "execution_count": null,
   "metadata": {},
   "outputs": [],
   "source": [
    "!ls ../files/inputs/"
   ]
  },
  {
   "cell_type": "code",
   "execution_count": null,
   "metadata": {},
   "outputs": [],
   "source": [
    "!mass-center ../files/inputs/*"
   ]
  },
  {
   "cell_type": "code",
   "execution_count": null,
   "metadata": {},
   "outputs": [],
   "source": [
    "!nuclear-repulsion ../files/inputs/*"
   ]
  },
  {
   "cell_type": "code",
   "execution_count": null,
   "metadata": {},
   "outputs": [],
   "source": [
    "!mol-bonds --tol 0.3 ../files/inputs/*H2O*"
   ]
  },
  {
   "cell_type": "code",
   "execution_count": null,
   "metadata": {},
   "outputs": [],
   "source": [
    "!poscar2xyz ../files/inputs/POSCAR_H2O -1 2 -1 0 1 2"
   ]
  },
  {
   "cell_type": "code",
   "execution_count": null,
   "metadata": {},
   "outputs": [],
   "source": [
    "!split-mol-clusters ../files/inputs/C8H15F6N2P.cif"
   ]
  }
 ],
 "metadata": {
  "kernelspec": {
   "display_name": ".venv",
   "language": "python",
   "name": "python3"
  },
  "language_info": {
   "codemirror_mode": {
    "name": "ipython",
    "version": 3
   },
   "file_extension": ".py",
   "mimetype": "text/x-python",
   "name": "python",
   "nbconvert_exporter": "python",
   "pygments_lexer": "ipython3",
   "version": "3.12.7"
  }
 },
 "nbformat": 4,
 "nbformat_minor": 4
}
